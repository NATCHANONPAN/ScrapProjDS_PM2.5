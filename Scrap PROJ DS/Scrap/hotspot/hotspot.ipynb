{
 "cells": [
  {
   "cell_type": "code",
   "execution_count": 1,
   "metadata": {},
   "outputs": [],
   "source": [
    "from bs4 import BeautifulSoup\n",
    "from bs4.element import Tag\n",
    "from IPython.core.display import HTML\n",
    "import pandas as pd\n",
    "import html5lib\n",
    "import requests"
   ]
  },
  {
   "cell_type": "code",
   "execution_count": 2,
   "metadata": {},
   "outputs": [],
   "source": [
    "s = requests.Session()\n",
    "data_list = []"
   ]
  },
  {
   "cell_type": "code",
   "execution_count": null,
   "metadata": {},
   "outputs": [],
   "source": [
    "#this website using post request so we have to init data to sent with our request"
   ]
  },
  {
   "cell_type": "code",
   "execution_count": 3,
   "metadata": {},
   "outputs": [],
   "source": [
    "data = {\n",
    "    'date': '2 Jul, 2021',\n",
    "    'pastDays': 182,\n",
    "    'regions[]': ['Thailand','Myanmar','Cambodia','Lao_PDR'],\n",
    "    'daynight': 'day',\n",
    "    'conf': 'High'\n",
    "}"
   ]
  },
  {
   "cell_type": "code",
   "execution_count": 4,
   "metadata": {},
   "outputs": [],
   "source": [
    "s.get('http://asmc.asean.org/asmc-haze-hotspot-monthly-new#Hotspot')\n",
    "p = s.post('http://asmc.asean.org/wp-content/themes/asmctheme/page-functions/functions-ajax-haze-daily-hotspot-count-new.php', data = data , )\n",
    "# print(p.json())\n",
    "for i in p.json():\n",
    "    data_list.append(i)"
   ]
  },
  {
   "cell_type": "code",
   "execution_count": 5,
   "metadata": {},
   "outputs": [],
   "source": [
    "data = {\n",
    "    'date': '1 Jan, 2021',\n",
    "    'pastDays': 366,\n",
    "    'regions[]': ['Thailand','Myanmar','Cambodia','Lao_PDR'],\n",
    "    'daynight': 'day',\n",
    "    'conf': 'High'\n",
    "}\n",
    "\n",
    "s.get('http://asmc.asean.org/asmc-haze-hotspot-monthly-new#Hotspot')\n",
    "p = s.post('http://asmc.asean.org/wp-content/themes/asmctheme/page-functions/functions-ajax-haze-daily-hotspot-count-new.php', data = data , )\n",
    "# print(p.json())\n",
    "for i in p.json():\n",
    "    data_list.append(i)"
   ]
  },
  {
   "cell_type": "code",
   "execution_count": 6,
   "metadata": {},
   "outputs": [],
   "source": [
    "data = {\n",
    "    'date': '1 Jan, 2020',\n",
    "    'pastDays': 365,\n",
    "    'regions[]': ['Thailand','Myanmar','Cambodia','Lao_PDR'],\n",
    "    'daynight': 'day',\n",
    "    'conf': 'High'\n",
    "}\n",
    "\n",
    "s.get('http://asmc.asean.org/asmc-haze-hotspot-monthly-new#Hotspot')\n",
    "p = s.post('http://asmc.asean.org/wp-content/themes/asmctheme/page-functions/functions-ajax-haze-daily-hotspot-count-new.php', data = data , )\n",
    "# print(p.json())\n",
    "for i in p.json():\n",
    "    data_list.append(i)"
   ]
  },
  {
   "cell_type": "code",
   "execution_count": 7,
   "metadata": {},
   "outputs": [],
   "source": [
    "data = {\n",
    "    'date': '1 Jan, 2019',\n",
    "    'pastDays': 365,\n",
    "    'regions[]': ['Thailand','Myanmar','Cambodia','Lao_PDR'],\n",
    "    'daynight': 'day',\n",
    "    'conf': 'High'\n",
    "}\n",
    "\n",
    "s.get('http://asmc.asean.org/asmc-haze-hotspot-monthly-new#Hotspot')\n",
    "p = s.post('http://asmc.asean.org/wp-content/themes/asmctheme/page-functions/functions-ajax-haze-daily-hotspot-count-new.php', data = data , )\n",
    "# print(p.json())\n",
    "for i in p.json():\n",
    "    data_list.append(i)"
   ]
  },
  {
   "cell_type": "code",
   "execution_count": 8,
   "metadata": {},
   "outputs": [],
   "source": [
    "data = {\n",
    "    'date': '1 Jan, 2018',\n",
    "    'pastDays': 184,\n",
    "    'regions[]': ['Thailand','Myanmar','Cambodia','Lao_PDR'],\n",
    "    'daynight': 'day',\n",
    "    'conf': 'High'\n",
    "}\n",
    "\n",
    "s.get('http://asmc.asean.org/asmc-haze-hotspot-monthly-new#Hotspot')\n",
    "p = s.post('http://asmc.asean.org/wp-content/themes/asmctheme/page-functions/functions-ajax-haze-daily-hotspot-count-new.php', data = data , )\n",
    "# print(p.json())\n",
    "for i in p.json():\n",
    "    data_list.append(i)"
   ]
  },
  {
   "cell_type": "code",
   "execution_count": 9,
   "metadata": {},
   "outputs": [],
   "source": [
    "df = pd.DataFrame.from_dict(data_list)\n",
    "df['date'] = pd.to_datetime(df['date'])\n",
    "df.set_index(['date'],inplace=True)\n",
    "df.sort_index(inplace=True)"
   ]
  },
  {
   "cell_type": "code",
   "execution_count": 10,
   "metadata": {},
   "outputs": [],
   "source": [
    "df = df.reindex(pd.date_range('2017-07-01', '2021-07-01', freq ='D'))"
   ]
  },
  {
   "cell_type": "code",
   "execution_count": 11,
   "metadata": {},
   "outputs": [],
   "source": [
    "df.drop(columns=['ThailandLineColor','MyanmarLineColor','CambodiaLineColor','Lao_PDRLineColor'],inplace = True)"
   ]
  },
  {
   "cell_type": "code",
   "execution_count": 12,
   "metadata": {},
   "outputs": [],
   "source": [
    "for c in df.columns:\n",
    "    df[c].interpolate(inplace=True)\n",
    "df = df.round().astype(int)"
   ]
  },
  {
   "cell_type": "code",
   "execution_count": 13,
   "metadata": {},
   "outputs": [],
   "source": [
    "df.to_csv('hotpot.csv')"
   ]
  }
 ],
 "metadata": {
  "interpreter": {
   "hash": "2120e60268f3d02216a0f82bf81395eb7ce0731e84ec3ab197f32ddc615897e9"
  },
  "kernelspec": {
   "display_name": "Python 3.9.5 64-bit",
   "language": "python",
   "name": "python3"
  },
  "language_info": {
   "codemirror_mode": {
    "name": "ipython",
    "version": 3
   },
   "file_extension": ".py",
   "mimetype": "text/x-python",
   "name": "python",
   "nbconvert_exporter": "python",
   "pygments_lexer": "ipython3",
   "version": "3.9.5"
  },
  "orig_nbformat": 4
 },
 "nbformat": 4,
 "nbformat_minor": 2
}
